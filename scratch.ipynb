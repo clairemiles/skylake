{
 "cells": [
  {
   "cell_type": "markdown",
   "id": "4bcfe041",
   "metadata": {},
   "source": [
    "# Ingestion from OpenSky API"
   ]
  },
  {
   "cell_type": "code",
   "execution_count": null,
   "id": "f1fb9d76",
   "metadata": {},
   "outputs": [],
   "source": [
    "import asyncio\n",
    "import requests"
   ]
  },
  {
   "cell_type": "code",
   "execution_count": null,
   "id": "c097b6cc",
   "metadata": {},
   "outputs": [],
   "source": []
  },
  {
   "cell_type": "code",
   "execution_count": null,
   "id": "c28d80e6",
   "metadata": {},
   "outputs": [],
   "source": []
  },
  {
   "cell_type": "code",
   "execution_count": null,
   "id": "6b17980c",
   "metadata": {},
   "outputs": [],
   "source": []
  }
 ],
 "metadata": {
  "language_info": {
   "name": "python"
  }
 },
 "nbformat": 4,
 "nbformat_minor": 5
}
